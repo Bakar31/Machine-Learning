{
 "cells": [
  {
   "cell_type": "markdown",
   "id": "f96fbd60",
   "metadata": {},
   "source": [
    "Hi everyone! `Chelsae` and `Manchester City` are in the **UCL Final**. Let's predict who is most likely to lift the Trophy."
   ]
  },
  {
   "cell_type": "code",
   "execution_count": 1,
   "id": "9fef3056",
   "metadata": {},
   "outputs": [],
   "source": [
    "#Importing basic libraries\n",
    "\n",
    "import numpy as np\n",
    "import pandas as pd\n",
    "import matplotlib.pyplot as plt\n",
    "import seaborn as sns\n",
    "%matplotlib inline"
   ]
  },
  {
   "cell_type": "code",
   "execution_count": 2,
   "id": "91291df1",
   "metadata": {},
   "outputs": [],
   "source": [
    "#Importing the dataset and assigning it to variable df. \n",
    "\n",
    "df = pd.read_csv('ucl_stats.csv')"
   ]
  },
  {
   "cell_type": "code",
   "execution_count": 3,
   "id": "e2010d9d",
   "metadata": {
    "scrolled": true
   },
   "outputs": [
    {
     "data": {
      "text/html": [
       "<div>\n",
       "<style scoped>\n",
       "    .dataframe tbody tr th:only-of-type {\n",
       "        vertical-align: middle;\n",
       "    }\n",
       "\n",
       "    .dataframe tbody tr th {\n",
       "        vertical-align: top;\n",
       "    }\n",
       "\n",
       "    .dataframe thead th {\n",
       "        text-align: right;\n",
       "    }\n",
       "</style>\n",
       "<table border=\"1\" class=\"dataframe\">\n",
       "  <thead>\n",
       "    <tr style=\"text-align: right;\">\n",
       "      <th></th>\n",
       "      <th>year</th>\n",
       "      <th>team</th>\n",
       "      <th>match_played</th>\n",
       "      <th>wins</th>\n",
       "      <th>draws</th>\n",
       "      <th>losts</th>\n",
       "      <th>goals_scored</th>\n",
       "      <th>goals_conceded</th>\n",
       "      <th>gd</th>\n",
       "      <th>group_point</th>\n",
       "      <th>champions</th>\n",
       "    </tr>\n",
       "  </thead>\n",
       "  <tbody>\n",
       "    <tr>\n",
       "      <th>0</th>\n",
       "      <td>1993</td>\n",
       "      <td>Marseille</td>\n",
       "      <td>6</td>\n",
       "      <td>3</td>\n",
       "      <td>3</td>\n",
       "      <td>0</td>\n",
       "      <td>14</td>\n",
       "      <td>4</td>\n",
       "      <td>10</td>\n",
       "      <td>9</td>\n",
       "      <td>1</td>\n",
       "    </tr>\n",
       "    <tr>\n",
       "      <th>1</th>\n",
       "      <td>1993</td>\n",
       "      <td>Milan</td>\n",
       "      <td>7</td>\n",
       "      <td>6</td>\n",
       "      <td>0</td>\n",
       "      <td>1</td>\n",
       "      <td>11</td>\n",
       "      <td>2</td>\n",
       "      <td>9</td>\n",
       "      <td>12</td>\n",
       "      <td>0</td>\n",
       "    </tr>\n",
       "    <tr>\n",
       "      <th>2</th>\n",
       "      <td>1993</td>\n",
       "      <td>Rangers</td>\n",
       "      <td>6</td>\n",
       "      <td>2</td>\n",
       "      <td>4</td>\n",
       "      <td>0</td>\n",
       "      <td>7</td>\n",
       "      <td>5</td>\n",
       "      <td>2</td>\n",
       "      <td>8</td>\n",
       "      <td>0</td>\n",
       "    </tr>\n",
       "    <tr>\n",
       "      <th>3</th>\n",
       "      <td>1993</td>\n",
       "      <td>Club Brugge</td>\n",
       "      <td>6</td>\n",
       "      <td>2</td>\n",
       "      <td>1</td>\n",
       "      <td>3</td>\n",
       "      <td>5</td>\n",
       "      <td>8</td>\n",
       "      <td>-3</td>\n",
       "      <td>5</td>\n",
       "      <td>0</td>\n",
       "    </tr>\n",
       "    <tr>\n",
       "      <th>4</th>\n",
       "      <td>1993</td>\n",
       "      <td>CSKA Moscow</td>\n",
       "      <td>6</td>\n",
       "      <td>0</td>\n",
       "      <td>2</td>\n",
       "      <td>4</td>\n",
       "      <td>2</td>\n",
       "      <td>11</td>\n",
       "      <td>-9</td>\n",
       "      <td>2</td>\n",
       "      <td>0</td>\n",
       "    </tr>\n",
       "  </tbody>\n",
       "</table>\n",
       "</div>"
      ],
      "text/plain": [
       "   year         team  match_played  wins  draws  losts  goals_scored  \\\n",
       "0  1993    Marseille             6     3      3      0            14   \n",
       "1  1993        Milan             7     6      0      1            11   \n",
       "2  1993      Rangers             6     2      4      0             7   \n",
       "3  1993  Club Brugge             6     2      1      3             5   \n",
       "4  1993  CSKA Moscow             6     0      2      4             2   \n",
       "\n",
       "   goals_conceded  gd  group_point  champions  \n",
       "0               4  10            9          1  \n",
       "1               2   9           12          0  \n",
       "2               5   2            8          0  \n",
       "3               8  -3            5          0  \n",
       "4              11  -9            2          0  "
      ]
     },
     "execution_count": 3,
     "metadata": {},
     "output_type": "execute_result"
    }
   ],
   "source": [
    "df.head()"
   ]
  },
  {
   "cell_type": "code",
   "execution_count": 4,
   "id": "e6eae9a3",
   "metadata": {},
   "outputs": [
    {
     "data": {
      "text/html": [
       "<div>\n",
       "<style scoped>\n",
       "    .dataframe tbody tr th:only-of-type {\n",
       "        vertical-align: middle;\n",
       "    }\n",
       "\n",
       "    .dataframe tbody tr th {\n",
       "        vertical-align: top;\n",
       "    }\n",
       "\n",
       "    .dataframe thead th {\n",
       "        text-align: right;\n",
       "    }\n",
       "</style>\n",
       "<table border=\"1\" class=\"dataframe\">\n",
       "  <thead>\n",
       "    <tr style=\"text-align: right;\">\n",
       "      <th></th>\n",
       "      <th>year</th>\n",
       "      <th>team</th>\n",
       "      <th>match_played</th>\n",
       "      <th>wins</th>\n",
       "      <th>draws</th>\n",
       "      <th>losts</th>\n",
       "      <th>goals_scored</th>\n",
       "      <th>goals_conceded</th>\n",
       "      <th>gd</th>\n",
       "      <th>group_point</th>\n",
       "      <th>champions</th>\n",
       "    </tr>\n",
       "  </thead>\n",
       "  <tbody>\n",
       "    <tr>\n",
       "      <th>715</th>\n",
       "      <td>2020</td>\n",
       "      <td>Zenit Saint Petersburg</td>\n",
       "      <td>6</td>\n",
       "      <td>2</td>\n",
       "      <td>1</td>\n",
       "      <td>3</td>\n",
       "      <td>7</td>\n",
       "      <td>9</td>\n",
       "      <td>-2</td>\n",
       "      <td>7</td>\n",
       "      <td>0</td>\n",
       "    </tr>\n",
       "    <tr>\n",
       "      <th>716</th>\n",
       "      <td>2020</td>\n",
       "      <td>Valencia</td>\n",
       "      <td>8</td>\n",
       "      <td>3</td>\n",
       "      <td>2</td>\n",
       "      <td>3</td>\n",
       "      <td>13</td>\n",
       "      <td>15</td>\n",
       "      <td>-2</td>\n",
       "      <td>11</td>\n",
       "      <td>0</td>\n",
       "    </tr>\n",
       "    <tr>\n",
       "      <th>717</th>\n",
       "      <td>2020</td>\n",
       "      <td>Chelsea</td>\n",
       "      <td>8</td>\n",
       "      <td>3</td>\n",
       "      <td>2</td>\n",
       "      <td>3</td>\n",
       "      <td>12</td>\n",
       "      <td>16</td>\n",
       "      <td>-4</td>\n",
       "      <td>11</td>\n",
       "      <td>0</td>\n",
       "    </tr>\n",
       "    <tr>\n",
       "      <th>718</th>\n",
       "      <td>2020</td>\n",
       "      <td>Ajax</td>\n",
       "      <td>6</td>\n",
       "      <td>3</td>\n",
       "      <td>1</td>\n",
       "      <td>2</td>\n",
       "      <td>12</td>\n",
       "      <td>6</td>\n",
       "      <td>6</td>\n",
       "      <td>10</td>\n",
       "      <td>0</td>\n",
       "    </tr>\n",
       "    <tr>\n",
       "      <th>719</th>\n",
       "      <td>2020</td>\n",
       "      <td>Lille</td>\n",
       "      <td>6</td>\n",
       "      <td>0</td>\n",
       "      <td>1</td>\n",
       "      <td>5</td>\n",
       "      <td>4</td>\n",
       "      <td>14</td>\n",
       "      <td>-10</td>\n",
       "      <td>1</td>\n",
       "      <td>0</td>\n",
       "    </tr>\n",
       "  </tbody>\n",
       "</table>\n",
       "</div>"
      ],
      "text/plain": [
       "     year                    team  match_played  wins  draws  losts  \\\n",
       "715  2020  Zenit Saint Petersburg             6     2      1      3   \n",
       "716  2020                Valencia             8     3      2      3   \n",
       "717  2020                 Chelsea             8     3      2      3   \n",
       "718  2020                    Ajax             6     3      1      2   \n",
       "719  2020                   Lille             6     0      1      5   \n",
       "\n",
       "     goals_scored  goals_conceded  gd  group_point  champions  \n",
       "715             7               9  -2            7          0  \n",
       "716            13              15  -2           11          0  \n",
       "717            12              16  -4           11          0  \n",
       "718            12               6   6           10          0  \n",
       "719             4              14 -10            1          0  "
      ]
     },
     "execution_count": 4,
     "metadata": {},
     "output_type": "execute_result"
    }
   ],
   "source": [
    "df.tail()"
   ]
  },
  {
   "cell_type": "code",
   "execution_count": 5,
   "id": "45eeff67",
   "metadata": {},
   "outputs": [
    {
     "data": {
      "text/plain": [
       "(720, 11)"
      ]
     },
     "execution_count": 5,
     "metadata": {},
     "output_type": "execute_result"
    }
   ],
   "source": [
    "df.shape"
   ]
  },
  {
   "cell_type": "code",
   "execution_count": 6,
   "id": "657fed71",
   "metadata": {},
   "outputs": [
    {
     "data": {
      "text/plain": [
       "year              0\n",
       "team              0\n",
       "match_played      0\n",
       "wins              0\n",
       "draws             0\n",
       "losts             0\n",
       "goals_scored      0\n",
       "goals_conceded    0\n",
       "gd                0\n",
       "group_point       0\n",
       "champions         0\n",
       "dtype: int64"
      ]
     },
     "execution_count": 6,
     "metadata": {},
     "output_type": "execute_result"
    }
   ],
   "source": [
    "#Checking if there is any null value in the dataset.\n",
    "\n",
    "df.isna().sum()"
   ]
  },
  {
   "cell_type": "markdown",
   "id": "871575c0",
   "metadata": {},
   "source": [
    "`Great news!` We don't have any null values in our dataset"
   ]
  },
  {
   "cell_type": "code",
   "execution_count": 7,
   "id": "bfc641d5",
   "metadata": {},
   "outputs": [
    {
     "name": "stdout",
     "output_type": "stream",
     "text": [
      "<class 'pandas.core.frame.DataFrame'>\n",
      "RangeIndex: 720 entries, 0 to 719\n",
      "Data columns (total 11 columns):\n",
      " #   Column          Non-Null Count  Dtype \n",
      "---  ------          --------------  ----- \n",
      " 0   year            720 non-null    int64 \n",
      " 1   team            720 non-null    object\n",
      " 2   match_played    720 non-null    int64 \n",
      " 3   wins            720 non-null    int64 \n",
      " 4   draws           720 non-null    int64 \n",
      " 5   losts           720 non-null    int64 \n",
      " 6   goals_scored    720 non-null    int64 \n",
      " 7   goals_conceded  720 non-null    int64 \n",
      " 8   gd              720 non-null    int64 \n",
      " 9   group_point     720 non-null    int64 \n",
      " 10  champions       720 non-null    int64 \n",
      "dtypes: int64(10), object(1)\n",
      "memory usage: 62.0+ KB\n"
     ]
    }
   ],
   "source": [
    "#Let's check a quick info of the dataset\n",
    "\n",
    "df.info()"
   ]
  },
  {
   "cell_type": "code",
   "execution_count": 8,
   "id": "d03ddada",
   "metadata": {},
   "outputs": [
    {
     "data": {
      "text/html": [
       "<div>\n",
       "<style scoped>\n",
       "    .dataframe tbody tr th:only-of-type {\n",
       "        vertical-align: middle;\n",
       "    }\n",
       "\n",
       "    .dataframe tbody tr th {\n",
       "        vertical-align: top;\n",
       "    }\n",
       "\n",
       "    .dataframe thead th {\n",
       "        text-align: right;\n",
       "    }\n",
       "</style>\n",
       "<table border=\"1\" class=\"dataframe\">\n",
       "  <thead>\n",
       "    <tr style=\"text-align: right;\">\n",
       "      <th></th>\n",
       "      <th>year</th>\n",
       "      <th>match_played</th>\n",
       "      <th>wins</th>\n",
       "      <th>draws</th>\n",
       "      <th>losts</th>\n",
       "      <th>goals_scored</th>\n",
       "      <th>goals_conceded</th>\n",
       "      <th>gd</th>\n",
       "      <th>group_point</th>\n",
       "      <th>champions</th>\n",
       "    </tr>\n",
       "  </thead>\n",
       "  <tbody>\n",
       "    <tr>\n",
       "      <th>count</th>\n",
       "      <td>720.000000</td>\n",
       "      <td>720.000000</td>\n",
       "      <td>720.000000</td>\n",
       "      <td>720.000000</td>\n",
       "      <td>720.000000</td>\n",
       "      <td>720.000000</td>\n",
       "      <td>720.000000</td>\n",
       "      <td>720.000000</td>\n",
       "      <td>720.000000</td>\n",
       "      <td>720.000000</td>\n",
       "    </tr>\n",
       "    <tr>\n",
       "      <th>mean</th>\n",
       "      <td>2008.688889</td>\n",
       "      <td>7.659722</td>\n",
       "      <td>2.920833</td>\n",
       "      <td>1.830556</td>\n",
       "      <td>2.911111</td>\n",
       "      <td>10.522222</td>\n",
       "      <td>10.490278</td>\n",
       "      <td>0.091667</td>\n",
       "      <td>8.133333</td>\n",
       "      <td>0.040278</td>\n",
       "    </tr>\n",
       "    <tr>\n",
       "      <th>std</th>\n",
       "      <td>7.351526</td>\n",
       "      <td>2.097628</td>\n",
       "      <td>2.316563</td>\n",
       "      <td>1.277454</td>\n",
       "      <td>1.248259</td>\n",
       "      <td>6.982757</td>\n",
       "      <td>3.669961</td>\n",
       "      <td>7.645660</td>\n",
       "      <td>4.213562</td>\n",
       "      <td>0.196747</td>\n",
       "    </tr>\n",
       "    <tr>\n",
       "      <th>min</th>\n",
       "      <td>1993.000000</td>\n",
       "      <td>6.000000</td>\n",
       "      <td>0.000000</td>\n",
       "      <td>0.000000</td>\n",
       "      <td>0.000000</td>\n",
       "      <td>0.000000</td>\n",
       "      <td>2.000000</td>\n",
       "      <td>-22.000000</td>\n",
       "      <td>-8.000000</td>\n",
       "      <td>0.000000</td>\n",
       "    </tr>\n",
       "    <tr>\n",
       "      <th>25%</th>\n",
       "      <td>2004.000000</td>\n",
       "      <td>6.000000</td>\n",
       "      <td>1.000000</td>\n",
       "      <td>1.000000</td>\n",
       "      <td>2.000000</td>\n",
       "      <td>5.000000</td>\n",
       "      <td>8.000000</td>\n",
       "      <td>-5.000000</td>\n",
       "      <td>5.000000</td>\n",
       "      <td>0.000000</td>\n",
       "    </tr>\n",
       "    <tr>\n",
       "      <th>50%</th>\n",
       "      <td>2009.000000</td>\n",
       "      <td>6.000000</td>\n",
       "      <td>2.000000</td>\n",
       "      <td>2.000000</td>\n",
       "      <td>3.000000</td>\n",
       "      <td>9.000000</td>\n",
       "      <td>10.000000</td>\n",
       "      <td>0.000000</td>\n",
       "      <td>8.000000</td>\n",
       "      <td>0.000000</td>\n",
       "    </tr>\n",
       "    <tr>\n",
       "      <th>75%</th>\n",
       "      <td>2015.000000</td>\n",
       "      <td>8.000000</td>\n",
       "      <td>4.000000</td>\n",
       "      <td>3.000000</td>\n",
       "      <td>4.000000</td>\n",
       "      <td>14.000000</td>\n",
       "      <td>13.000000</td>\n",
       "      <td>5.000000</td>\n",
       "      <td>11.000000</td>\n",
       "      <td>0.000000</td>\n",
       "    </tr>\n",
       "    <tr>\n",
       "      <th>max</th>\n",
       "      <td>2020.000000</td>\n",
       "      <td>13.000000</td>\n",
       "      <td>11.000000</td>\n",
       "      <td>7.000000</td>\n",
       "      <td>6.000000</td>\n",
       "      <td>43.000000</td>\n",
       "      <td>24.000000</td>\n",
       "      <td>35.000000</td>\n",
       "      <td>18.000000</td>\n",
       "      <td>1.000000</td>\n",
       "    </tr>\n",
       "  </tbody>\n",
       "</table>\n",
       "</div>"
      ],
      "text/plain": [
       "              year  match_played        wins       draws       losts  \\\n",
       "count   720.000000    720.000000  720.000000  720.000000  720.000000   \n",
       "mean   2008.688889      7.659722    2.920833    1.830556    2.911111   \n",
       "std       7.351526      2.097628    2.316563    1.277454    1.248259   \n",
       "min    1993.000000      6.000000    0.000000    0.000000    0.000000   \n",
       "25%    2004.000000      6.000000    1.000000    1.000000    2.000000   \n",
       "50%    2009.000000      6.000000    2.000000    2.000000    3.000000   \n",
       "75%    2015.000000      8.000000    4.000000    3.000000    4.000000   \n",
       "max    2020.000000     13.000000   11.000000    7.000000    6.000000   \n",
       "\n",
       "       goals_scored  goals_conceded          gd  group_point   champions  \n",
       "count    720.000000      720.000000  720.000000   720.000000  720.000000  \n",
       "mean      10.522222       10.490278    0.091667     8.133333    0.040278  \n",
       "std        6.982757        3.669961    7.645660     4.213562    0.196747  \n",
       "min        0.000000        2.000000  -22.000000    -8.000000    0.000000  \n",
       "25%        5.000000        8.000000   -5.000000     5.000000    0.000000  \n",
       "50%        9.000000       10.000000    0.000000     8.000000    0.000000  \n",
       "75%       14.000000       13.000000    5.000000    11.000000    0.000000  \n",
       "max       43.000000       24.000000   35.000000    18.000000    1.000000  "
      ]
     },
     "execution_count": 8,
     "metadata": {},
     "output_type": "execute_result"
    }
   ],
   "source": [
    "df.describe()"
   ]
  },
  {
   "cell_type": "markdown",
   "id": "2e87aa58",
   "metadata": {},
   "source": [
    "Let's find the `correlation` of independent variables"
   ]
  },
  {
   "cell_type": "code",
   "execution_count": 9,
   "id": "d10103d4",
   "metadata": {},
   "outputs": [
    {
     "data": {
      "text/html": [
       "<div>\n",
       "<style scoped>\n",
       "    .dataframe tbody tr th:only-of-type {\n",
       "        vertical-align: middle;\n",
       "    }\n",
       "\n",
       "    .dataframe tbody tr th {\n",
       "        vertical-align: top;\n",
       "    }\n",
       "\n",
       "    .dataframe thead th {\n",
       "        text-align: right;\n",
       "    }\n",
       "</style>\n",
       "<table border=\"1\" class=\"dataframe\">\n",
       "  <thead>\n",
       "    <tr style=\"text-align: right;\">\n",
       "      <th></th>\n",
       "      <th>year</th>\n",
       "      <th>match_played</th>\n",
       "      <th>wins</th>\n",
       "      <th>draws</th>\n",
       "      <th>losts</th>\n",
       "      <th>goals_scored</th>\n",
       "      <th>goals_conceded</th>\n",
       "      <th>gd</th>\n",
       "      <th>group_point</th>\n",
       "      <th>champions</th>\n",
       "    </tr>\n",
       "  </thead>\n",
       "  <tbody>\n",
       "    <tr>\n",
       "      <th>year</th>\n",
       "      <td>1.000000</td>\n",
       "      <td>0.061851</td>\n",
       "      <td>0.051881</td>\n",
       "      <td>-0.075819</td>\n",
       "      <td>0.078825</td>\n",
       "      <td>0.119509</td>\n",
       "      <td>0.218461</td>\n",
       "      <td>0.004690</td>\n",
       "      <td>0.050327</td>\n",
       "      <td>-0.048058</td>\n",
       "    </tr>\n",
       "    <tr>\n",
       "      <th>match_played</th>\n",
       "      <td>0.061851</td>\n",
       "      <td>1.000000</td>\n",
       "      <td>0.882300</td>\n",
       "      <td>0.359944</td>\n",
       "      <td>-0.338240</td>\n",
       "      <td>0.833031</td>\n",
       "      <td>0.035613</td>\n",
       "      <td>0.737434</td>\n",
       "      <td>0.702558</td>\n",
       "      <td>0.403960</td>\n",
       "    </tr>\n",
       "    <tr>\n",
       "      <th>wins</th>\n",
       "      <td>0.051881</td>\n",
       "      <td>0.882300</td>\n",
       "      <td>1.000000</td>\n",
       "      <td>0.120946</td>\n",
       "      <td>-0.497360</td>\n",
       "      <td>0.882312</td>\n",
       "      <td>-0.148224</td>\n",
       "      <td>0.868512</td>\n",
       "      <td>0.865699</td>\n",
       "      <td>0.412861</td>\n",
       "    </tr>\n",
       "    <tr>\n",
       "      <th>draws</th>\n",
       "      <td>-0.075819</td>\n",
       "      <td>0.359944</td>\n",
       "      <td>0.120946</td>\n",
       "      <td>1.000000</td>\n",
       "      <td>-0.632216</td>\n",
       "      <td>0.221984</td>\n",
       "      <td>-0.197930</td>\n",
       "      <td>0.295649</td>\n",
       "      <td>0.224610</td>\n",
       "      <td>0.148934</td>\n",
       "    </tr>\n",
       "    <tr>\n",
       "      <th>losts</th>\n",
       "      <td>0.078825</td>\n",
       "      <td>-0.338240</td>\n",
       "      <td>-0.497360</td>\n",
       "      <td>-0.632216</td>\n",
       "      <td>1.000000</td>\n",
       "      <td>-0.470811</td>\n",
       "      <td>0.535669</td>\n",
       "      <td>-0.680145</td>\n",
       "      <td>-0.657506</td>\n",
       "      <td>-0.262897</td>\n",
       "    </tr>\n",
       "    <tr>\n",
       "      <th>goals_scored</th>\n",
       "      <td>0.119509</td>\n",
       "      <td>0.833031</td>\n",
       "      <td>0.882312</td>\n",
       "      <td>0.221984</td>\n",
       "      <td>-0.470811</td>\n",
       "      <td>1.000000</td>\n",
       "      <td>0.060061</td>\n",
       "      <td>0.872680</td>\n",
       "      <td>0.766493</td>\n",
       "      <td>0.404800</td>\n",
       "    </tr>\n",
       "    <tr>\n",
       "      <th>goals_conceded</th>\n",
       "      <td>0.218461</td>\n",
       "      <td>0.035613</td>\n",
       "      <td>-0.148224</td>\n",
       "      <td>-0.197930</td>\n",
       "      <td>0.535669</td>\n",
       "      <td>0.060061</td>\n",
       "      <td>1.000000</td>\n",
       "      <td>-0.407113</td>\n",
       "      <td>-0.297263</td>\n",
       "      <td>-0.058206</td>\n",
       "    </tr>\n",
       "    <tr>\n",
       "      <th>gd</th>\n",
       "      <td>0.004690</td>\n",
       "      <td>0.737434</td>\n",
       "      <td>0.868512</td>\n",
       "      <td>0.295649</td>\n",
       "      <td>-0.680145</td>\n",
       "      <td>0.872680</td>\n",
       "      <td>-0.407113</td>\n",
       "      <td>1.000000</td>\n",
       "      <td>0.832935</td>\n",
       "      <td>0.397889</td>\n",
       "    </tr>\n",
       "    <tr>\n",
       "      <th>group_point</th>\n",
       "      <td>0.050327</td>\n",
       "      <td>0.702558</td>\n",
       "      <td>0.865699</td>\n",
       "      <td>0.224610</td>\n",
       "      <td>-0.657506</td>\n",
       "      <td>0.766493</td>\n",
       "      <td>-0.297263</td>\n",
       "      <td>0.832935</td>\n",
       "      <td>1.000000</td>\n",
       "      <td>0.216647</td>\n",
       "    </tr>\n",
       "    <tr>\n",
       "      <th>champions</th>\n",
       "      <td>-0.048058</td>\n",
       "      <td>0.403960</td>\n",
       "      <td>0.412861</td>\n",
       "      <td>0.148934</td>\n",
       "      <td>-0.262897</td>\n",
       "      <td>0.404800</td>\n",
       "      <td>-0.058206</td>\n",
       "      <td>0.397889</td>\n",
       "      <td>0.216647</td>\n",
       "      <td>1.000000</td>\n",
       "    </tr>\n",
       "  </tbody>\n",
       "</table>\n",
       "</div>"
      ],
      "text/plain": [
       "                    year  match_played      wins     draws     losts  \\\n",
       "year            1.000000      0.061851  0.051881 -0.075819  0.078825   \n",
       "match_played    0.061851      1.000000  0.882300  0.359944 -0.338240   \n",
       "wins            0.051881      0.882300  1.000000  0.120946 -0.497360   \n",
       "draws          -0.075819      0.359944  0.120946  1.000000 -0.632216   \n",
       "losts           0.078825     -0.338240 -0.497360 -0.632216  1.000000   \n",
       "goals_scored    0.119509      0.833031  0.882312  0.221984 -0.470811   \n",
       "goals_conceded  0.218461      0.035613 -0.148224 -0.197930  0.535669   \n",
       "gd              0.004690      0.737434  0.868512  0.295649 -0.680145   \n",
       "group_point     0.050327      0.702558  0.865699  0.224610 -0.657506   \n",
       "champions      -0.048058      0.403960  0.412861  0.148934 -0.262897   \n",
       "\n",
       "                goals_scored  goals_conceded        gd  group_point  champions  \n",
       "year                0.119509        0.218461  0.004690     0.050327  -0.048058  \n",
       "match_played        0.833031        0.035613  0.737434     0.702558   0.403960  \n",
       "wins                0.882312       -0.148224  0.868512     0.865699   0.412861  \n",
       "draws               0.221984       -0.197930  0.295649     0.224610   0.148934  \n",
       "losts              -0.470811        0.535669 -0.680145    -0.657506  -0.262897  \n",
       "goals_scored        1.000000        0.060061  0.872680     0.766493   0.404800  \n",
       "goals_conceded      0.060061        1.000000 -0.407113    -0.297263  -0.058206  \n",
       "gd                  0.872680       -0.407113  1.000000     0.832935   0.397889  \n",
       "group_point         0.766493       -0.297263  0.832935     1.000000   0.216647  \n",
       "champions           0.404800       -0.058206  0.397889     0.216647   1.000000  "
      ]
     },
     "execution_count": 9,
     "metadata": {},
     "output_type": "execute_result"
    }
   ],
   "source": [
    "#Getting the correlation\n",
    "df.corr()"
   ]
  },
  {
   "cell_type": "markdown",
   "id": "ebffbf1d",
   "metadata": {},
   "source": [
    "Let's visualize this to get better intuition."
   ]
  },
  {
   "cell_type": "code",
   "execution_count": 10,
   "id": "d9377a0e",
   "metadata": {},
   "outputs": [
    {
     "data": {
      "image/png": "[encoded data removed]",
      "text/plain": [
       "<Figure size 1080x720 with 2 Axes>"
      ]
     },
     "metadata": {
      "needs_background": "light"
     },
     "output_type": "display_data"
    }
   ],
   "source": [
    "#Visualizing correlation matrix\n",
    "\n",
    "correlation_matrix = df.corr()\n",
    "plt.figure(figsize=(15, 10))\n",
    "sns.heatmap(correlation_matrix, \n",
    "            annot=True, \n",
    "            linewidths=0.5, \n",
    "            fmt= \".2f\", \n",
    "            cmap=\"icefire\");"
   ]
  },
  {
   "cell_type": "markdown",
   "id": "04d0599f",
   "metadata": {},
   "source": [
    "**Much better!**"
   ]
  },
  {
   "cell_type": "markdown",
   "id": "67b4d821",
   "metadata": {},
   "source": [
    "\n",
    "\n",
    "\n",
    "\n",
    "\n",
    "\n",
    "\n",
    "\n",
    "\n",
    "Let's check the `champions` column and see the `sum` of two different values."
   ]
  },
  {
   "cell_type": "code",
   "execution_count": 11,
   "id": "9bc07fb3",
   "metadata": {},
   "outputs": [
    {
     "data": {
      "text/plain": [
       "0    691\n",
       "1     29\n",
       "Name: champions, dtype: int64"
      ]
     },
     "execution_count": 11,
     "metadata": {},
     "output_type": "execute_result"
    }
   ],
   "source": [
    "df.champions.value_counts()"
   ]
  },
  {
   "cell_type": "code",
   "execution_count": 12,
   "id": "86ad9ec3",
   "metadata": {},
   "outputs": [
    {
     "data": {
      "image/png": "[encoded data removed]",
      "text/plain": [
       "<Figure size 720x432 with 1 Axes>"
      ]
     },
     "metadata": {
      "needs_background": "light"
     },
     "output_type": "display_data"
    }
   ],
   "source": [
    "#Visualizing those values\n",
    "df.champions.value_counts().plot(kind=\"bar\", figsize = (10, 6), color=[\"skyblue\", \"lightgreen\"]);"
   ]
  },
  {
   "cell_type": "markdown",
   "id": "6ef96ce6",
   "metadata": {},
   "source": [
    "So we clearly have `Imbalance Distribution` is our Data.\n",
    "\n",
    "We have to fixed this or we will end up with a very bad model which will barely identify the winners."
   ]
  },
  {
   "cell_type": "markdown",
   "id": "b677e540",
   "metadata": {},
   "source": [
    "Now we have to make `independent and dependent matrix of feature` from our dataset\n",
    "\n",
    "`x` will be our independent matix of feature and `y` will be dependent matrix of feature."
   ]
  },
  {
   "cell_type": "code",
   "execution_count": 13,
   "id": "c83f6e3d",
   "metadata": {},
   "outputs": [],
   "source": [
    "#creating x and y matrix of features\n",
    "\n",
    "x = df.iloc[:, 2: -1]\n",
    "y = df.iloc[:, -1]"
   ]
  },
  {
   "cell_type": "code",
   "execution_count": 14,
   "id": "b5bc7681",
   "metadata": {},
   "outputs": [
    {
     "data": {
      "text/html": [
       "<div>\n",
       "<style scoped>\n",
       "    .dataframe tbody tr th:only-of-type {\n",
       "        vertical-align: middle;\n",
       "    }\n",
       "\n",
       "    .dataframe tbody tr th {\n",
       "        vertical-align: top;\n",
       "    }\n",
       "\n",
       "    .dataframe thead th {\n",
       "        text-align: right;\n",
       "    }\n",
       "</style>\n",
       "<table border=\"1\" class=\"dataframe\">\n",
       "  <thead>\n",
       "    <tr style=\"text-align: right;\">\n",
       "      <th></th>\n",
       "      <th>match_played</th>\n",
       "      <th>wins</th>\n",
       "      <th>draws</th>\n",
       "      <th>losts</th>\n",
       "      <th>goals_scored</th>\n",
       "      <th>goals_conceded</th>\n",
       "      <th>gd</th>\n",
       "      <th>group_point</th>\n",
       "    </tr>\n",
       "  </thead>\n",
       "  <tbody>\n",
       "    <tr>\n",
       "      <th>0</th>\n",
       "      <td>6</td>\n",
       "      <td>3</td>\n",
       "      <td>3</td>\n",
       "      <td>0</td>\n",
       "      <td>14</td>\n",
       "      <td>4</td>\n",
       "      <td>10</td>\n",
       "      <td>9</td>\n",
       "    </tr>\n",
       "    <tr>\n",
       "      <th>1</th>\n",
       "      <td>7</td>\n",
       "      <td>6</td>\n",
       "      <td>0</td>\n",
       "      <td>1</td>\n",
       "      <td>11</td>\n",
       "      <td>2</td>\n",
       "      <td>9</td>\n",
       "      <td>12</td>\n",
       "    </tr>\n",
       "    <tr>\n",
       "      <th>2</th>\n",
       "      <td>6</td>\n",
       "      <td>2</td>\n",
       "      <td>4</td>\n",
       "      <td>0</td>\n",
       "      <td>7</td>\n",
       "      <td>5</td>\n",
       "      <td>2</td>\n",
       "      <td>8</td>\n",
       "    </tr>\n",
       "    <tr>\n",
       "      <th>3</th>\n",
       "      <td>6</td>\n",
       "      <td>2</td>\n",
       "      <td>1</td>\n",
       "      <td>3</td>\n",
       "      <td>5</td>\n",
       "      <td>8</td>\n",
       "      <td>-3</td>\n",
       "      <td>5</td>\n",
       "    </tr>\n",
       "    <tr>\n",
       "      <th>4</th>\n",
       "      <td>6</td>\n",
       "      <td>0</td>\n",
       "      <td>2</td>\n",
       "      <td>4</td>\n",
       "      <td>2</td>\n",
       "      <td>11</td>\n",
       "      <td>-9</td>\n",
       "      <td>2</td>\n",
       "    </tr>\n",
       "  </tbody>\n",
       "</table>\n",
       "</div>"
      ],
      "text/plain": [
       "   match_played  wins  draws  losts  goals_scored  goals_conceded  gd  \\\n",
       "0             6     3      3      0            14               4  10   \n",
       "1             7     6      0      1            11               2   9   \n",
       "2             6     2      4      0             7               5   2   \n",
       "3             6     2      1      3             5               8  -3   \n",
       "4             6     0      2      4             2              11  -9   \n",
       "\n",
       "   group_point  \n",
       "0            9  \n",
       "1           12  \n",
       "2            8  \n",
       "3            5  \n",
       "4            2  "
      ]
     },
     "execution_count": 14,
     "metadata": {},
     "output_type": "execute_result"
    }
   ],
   "source": [
    "#checking x\n",
    "\n",
    "x.head()"
   ]
  },
  {
   "cell_type": "markdown",
   "id": "32389c4a",
   "metadata": {},
   "source": [
    "We got what we want. We don't want the `team` column becuse when we ecode the team column we will end up with a dataset has lots of columns. We don't want that."
   ]
  },
  {
   "cell_type": "markdown",
   "id": "a9e90a16",
   "metadata": {},
   "source": [
    "Now we need to apply `over_sampling` to equalize number of rows with `0` and number of rows with `1`. This way we will end up with a far better mode and accuracy."
   ]
  },
  {
   "cell_type": "code",
   "execution_count": 15,
   "id": "a8ddf8d5",
   "metadata": {},
   "outputs": [],
   "source": [
    "#imporing SMOTE class from imblearn.over_sampling\n",
    "\n",
    "from imblearn.over_sampling import SMOTE\n",
    "\n",
    "#Instanciating a object of SMOTE Class\n",
    "smote = SMOTE()\n",
    "\n",
    "# fit predictor and target variables\n",
    "x_smote, y_smote = smote.fit_resample(x, y)"
   ]
  },
  {
   "cell_type": "markdown",
   "id": "43da160d",
   "metadata": {},
   "source": [
    "Now we have two new matrix of features. They will have more then the main matrix of features because we applied `over_sampling` on them."
   ]
  },
  {
   "cell_type": "markdown",
   "id": "35293a33",
   "metadata": {},
   "source": [
    "Let's check"
   ]
  },
  {
   "cell_type": "code",
   "execution_count": 16,
   "id": "eac4fd64",
   "metadata": {},
   "outputs": [
    {
     "data": {
      "text/plain": [
       "(1382, 8)"
      ]
     },
     "execution_count": 16,
     "metadata": {},
     "output_type": "execute_result"
    }
   ],
   "source": [
    "#shape of x_smote\n",
    "x_smote.shape"
   ]
  },
  {
   "cell_type": "code",
   "execution_count": 17,
   "id": "7b5f95cc",
   "metadata": {},
   "outputs": [
    {
     "data": {
      "text/plain": [
       "(1382,)"
      ]
     },
     "execution_count": 17,
     "metadata": {},
     "output_type": "execute_result"
    }
   ],
   "source": [
    "#shape of y_smote\n",
    "y_smote.shape"
   ]
  },
  {
   "cell_type": "markdown",
   "id": "4d2b64c5",
   "metadata": {},
   "source": [
    "Now, let's plot there values and see what really happend"
   ]
  },
  {
   "cell_type": "code",
   "execution_count": 18,
   "id": "754fec23",
   "metadata": {},
   "outputs": [
    {
     "data": {
      "text/plain": [
       "<AxesSubplot:>"
      ]
     },
     "execution_count": 18,
     "metadata": {},
     "output_type": "execute_result"
    },
    {
     "data": {
      "image/png": "[encoded data removed]",
      "text/plain": [
       "<Figure size 720x432 with 1 Axes>"
      ]
     },
     "metadata": {
      "needs_background": "light"
     },
     "output_type": "display_data"
    }
   ],
   "source": [
    "y_smote.value_counts().plot(kind=\"bar\", figsize = (10, 6), color=[\"skyblue\", \"lightgreen\"])"
   ]
  },
  {
   "cell_type": "markdown",
   "id": "1f256e52",
   "metadata": {},
   "source": [
    "# Boom!"
   ]
  },
  {
   "cell_type": "markdown",
   "id": "a8e00c90",
   "metadata": {},
   "source": [
    "We `sloved` the `imbalance distribution` problem"
   ]
  },
  {
   "cell_type": "markdown",
   "id": "9fb4192e",
   "metadata": {},
   "source": [
    "# It's time to apply Machine Learning"
   ]
  },
  {
   "cell_type": "markdown",
   "id": "0bc707a3",
   "metadata": {},
   "source": [
    "Let's split our dataset into `train` and `test` set first"
   ]
  },
  {
   "cell_type": "code",
   "execution_count": 20,
   "id": "26b1b3ea",
   "metadata": {},
   "outputs": [],
   "source": [
    "from sklearn.model_selection import train_test_split\n",
    "\n",
    "#defining a random seed to make the split reproducable\n",
    "np.random.seed(37)\n",
    "\n",
    "x_train, x_test, y_train, y_test = train_test_split(x_smote, y_smote, test_size = 0.25)"
   ]
  },
  {
   "cell_type": "code",
   "execution_count": 21,
   "id": "820f0d99",
   "metadata": {},
   "outputs": [
    {
     "data": {
      "text/plain": [
       "(1036, 346, 1036, 346)"
      ]
     },
     "execution_count": 21,
     "metadata": {},
     "output_type": "execute_result"
    }
   ],
   "source": [
    "#checking the lenth of each set\n",
    "len(x_train), len(x_test), len(y_train), len(y_test)"
   ]
  },
  {
   "cell_type": "markdown",
   "id": "1c4fab22",
   "metadata": {},
   "source": [
    "Let's check thos set one by one"
   ]
  },
  {
   "cell_type": "code",
   "execution_count": 22,
   "id": "652675e5",
   "metadata": {},
   "outputs": [
    {
     "data": {
      "text/html": [
       "<div>\n",
       "<style scoped>\n",
       "    .dataframe tbody tr th:only-of-type {\n",
       "        vertical-align: middle;\n",
       "    }\n",
       "\n",
       "    .dataframe tbody tr th {\n",
       "        vertical-align: top;\n",
       "    }\n",
       "\n",
       "    .dataframe thead th {\n",
       "        text-align: right;\n",
       "    }\n",
       "</style>\n",
       "<table border=\"1\" class=\"dataframe\">\n",
       "  <thead>\n",
       "    <tr style=\"text-align: right;\">\n",
       "      <th></th>\n",
       "      <th>match_played</th>\n",
       "      <th>wins</th>\n",
       "      <th>draws</th>\n",
       "      <th>losts</th>\n",
       "      <th>goals_scored</th>\n",
       "      <th>goals_conceded</th>\n",
       "      <th>gd</th>\n",
       "      <th>group_point</th>\n",
       "    </tr>\n",
       "  </thead>\n",
       "  <tbody>\n",
       "    <tr>\n",
       "      <th>1229</th>\n",
       "      <td>11</td>\n",
       "      <td>8</td>\n",
       "      <td>1</td>\n",
       "      <td>1</td>\n",
       "      <td>22</td>\n",
       "      <td>9</td>\n",
       "      <td>13</td>\n",
       "      <td>15</td>\n",
       "    </tr>\n",
       "    <tr>\n",
       "      <th>775</th>\n",
       "      <td>7</td>\n",
       "      <td>4</td>\n",
       "      <td>3</td>\n",
       "      <td>0</td>\n",
       "      <td>15</td>\n",
       "      <td>4</td>\n",
       "      <td>11</td>\n",
       "      <td>9</td>\n",
       "    </tr>\n",
       "    <tr>\n",
       "      <th>272</th>\n",
       "      <td>12</td>\n",
       "      <td>7</td>\n",
       "      <td>3</td>\n",
       "      <td>2</td>\n",
       "      <td>19</td>\n",
       "      <td>10</td>\n",
       "      <td>9</td>\n",
       "      <td>13</td>\n",
       "    </tr>\n",
       "    <tr>\n",
       "      <th>741</th>\n",
       "      <td>13</td>\n",
       "      <td>4</td>\n",
       "      <td>3</td>\n",
       "      <td>2</td>\n",
       "      <td>19</td>\n",
       "      <td>10</td>\n",
       "      <td>9</td>\n",
       "      <td>10</td>\n",
       "    </tr>\n",
       "    <tr>\n",
       "      <th>1322</th>\n",
       "      <td>10</td>\n",
       "      <td>4</td>\n",
       "      <td>4</td>\n",
       "      <td>1</td>\n",
       "      <td>9</td>\n",
       "      <td>6</td>\n",
       "      <td>3</td>\n",
       "      <td>11</td>\n",
       "    </tr>\n",
       "  </tbody>\n",
       "</table>\n",
       "</div>"
      ],
      "text/plain": [
       "      match_played  wins  draws  losts  goals_scored  goals_conceded  gd  \\\n",
       "1229            11     8      1      1            22               9  13   \n",
       "775              7     4      3      0            15               4  11   \n",
       "272             12     7      3      2            19              10   9   \n",
       "741             13     4      3      2            19              10   9   \n",
       "1322            10     4      4      1             9               6   3   \n",
       "\n",
       "      group_point  \n",
       "1229           15  \n",
       "775             9  \n",
       "272            13  \n",
       "741            10  \n",
       "1322           11  "
      ]
     },
     "execution_count": 22,
     "metadata": {},
     "output_type": "execute_result"
    }
   ],
   "source": [
    "x_train.head()"
   ]
  },
  {
   "cell_type": "code",
   "execution_count": 23,
   "id": "235a8ff9",
   "metadata": {},
   "outputs": [
    {
     "data": {
      "text/plain": [
       "1229    1\n",
       "775     1\n",
       "272     0\n",
       "741     1\n",
       "1322    1\n",
       "Name: champions, dtype: int64"
      ]
     },
     "execution_count": 23,
     "metadata": {},
     "output_type": "execute_result"
    }
   ],
   "source": [
    "y_train.head()"
   ]
  },
  {
   "cell_type": "code",
   "execution_count": 24,
   "id": "9714edde",
   "metadata": {},
   "outputs": [
    {
     "data": {
      "text/html": [
       "<div>\n",
       "<style scoped>\n",
       "    .dataframe tbody tr th:only-of-type {\n",
       "        vertical-align: middle;\n",
       "    }\n",
       "\n",
       "    .dataframe tbody tr th {\n",
       "        vertical-align: top;\n",
       "    }\n",
       "\n",
       "    .dataframe thead th {\n",
       "        text-align: right;\n",
       "    }\n",
       "</style>\n",
       "<table border=\"1\" class=\"dataframe\">\n",
       "  <thead>\n",
       "    <tr style=\"text-align: right;\">\n",
       "      <th></th>\n",
       "      <th>match_played</th>\n",
       "      <th>wins</th>\n",
       "      <th>draws</th>\n",
       "      <th>losts</th>\n",
       "      <th>goals_scored</th>\n",
       "      <th>goals_conceded</th>\n",
       "      <th>gd</th>\n",
       "      <th>group_point</th>\n",
       "    </tr>\n",
       "  </thead>\n",
       "  <tbody>\n",
       "    <tr>\n",
       "      <th>512</th>\n",
       "      <td>12</td>\n",
       "      <td>6</td>\n",
       "      <td>2</td>\n",
       "      <td>4</td>\n",
       "      <td>19</td>\n",
       "      <td>10</td>\n",
       "      <td>9</td>\n",
       "      <td>12</td>\n",
       "    </tr>\n",
       "    <tr>\n",
       "      <th>466</th>\n",
       "      <td>6</td>\n",
       "      <td>1</td>\n",
       "      <td>2</td>\n",
       "      <td>3</td>\n",
       "      <td>6</td>\n",
       "      <td>10</td>\n",
       "      <td>-4</td>\n",
       "      <td>5</td>\n",
       "    </tr>\n",
       "    <tr>\n",
       "      <th>813</th>\n",
       "      <td>13</td>\n",
       "      <td>4</td>\n",
       "      <td>3</td>\n",
       "      <td>2</td>\n",
       "      <td>19</td>\n",
       "      <td>9</td>\n",
       "      <td>9</td>\n",
       "      <td>9</td>\n",
       "    </tr>\n",
       "    <tr>\n",
       "      <th>1320</th>\n",
       "      <td>11</td>\n",
       "      <td>9</td>\n",
       "      <td>1</td>\n",
       "      <td>0</td>\n",
       "      <td>22</td>\n",
       "      <td>9</td>\n",
       "      <td>13</td>\n",
       "      <td>13</td>\n",
       "    </tr>\n",
       "    <tr>\n",
       "      <th>697</th>\n",
       "      <td>9</td>\n",
       "      <td>4</td>\n",
       "      <td>1</td>\n",
       "      <td>4</td>\n",
       "      <td>17</td>\n",
       "      <td>18</td>\n",
       "      <td>-1</td>\n",
       "      <td>7</td>\n",
       "    </tr>\n",
       "  </tbody>\n",
       "</table>\n",
       "</div>"
      ],
      "text/plain": [
       "      match_played  wins  draws  losts  goals_scored  goals_conceded  gd  \\\n",
       "512             12     6      2      4            19              10   9   \n",
       "466              6     1      2      3             6              10  -4   \n",
       "813             13     4      3      2            19               9   9   \n",
       "1320            11     9      1      0            22               9  13   \n",
       "697              9     4      1      4            17              18  -1   \n",
       "\n",
       "      group_point  \n",
       "512            12  \n",
       "466             5  \n",
       "813             9  \n",
       "1320           13  \n",
       "697             7  "
      ]
     },
     "execution_count": 24,
     "metadata": {},
     "output_type": "execute_result"
    }
   ],
   "source": [
    "x_test.head()"
   ]
  },
  {
   "cell_type": "code",
   "execution_count": 25,
   "id": "96b09b5a",
   "metadata": {},
   "outputs": [
    {
     "data": {
      "text/plain": [
       "512     0\n",
       "466     0\n",
       "813     1\n",
       "1320    1\n",
       "697     0\n",
       "Name: champions, dtype: int64"
      ]
     },
     "execution_count": 25,
     "metadata": {},
     "output_type": "execute_result"
    }
   ],
   "source": [
    "y_test.head()"
   ]
  },
  {
   "cell_type": "markdown",
   "id": "cb3331e7",
   "metadata": {},
   "source": [
    "I have applied different Machine Learning model on this dataset. `RandomForestClassifier` worked **best**. So we are going to use this."
   ]
  },
  {
   "cell_type": "code",
   "execution_count": 26,
   "id": "7b42db68",
   "metadata": {},
   "outputs": [],
   "source": [
    "#importing RandomForestClassifier\n",
    "from sklearn.ensemble import RandomForestClassifier"
   ]
  },
  {
   "cell_type": "markdown",
   "id": "6d29aa6d",
   "metadata": {},
   "source": [
    "We need to import `RandomizedSearchCV` to tune the hyperparameters."
   ]
  },
  {
   "cell_type": "code",
   "execution_count": 27,
   "id": "c49c5c31",
   "metadata": {},
   "outputs": [],
   "source": [
    "#importing RandomizedSearchCV\n",
    "from sklearn.model_selection import RandomizedSearchCV"
   ]
  },
  {
   "cell_type": "code",
   "execution_count": 28,
   "id": "1c2a3da6",
   "metadata": {},
   "outputs": [],
   "source": [
    "#defining some values to perform RandomSearch\n",
    "\n",
    "rscv_grid = {\"n_estimators\": np.arange(10, 1000, 20),\n",
    "           \"max_depth\": [None, 3, 5, 7, 10],\n",
    "           \"min_samples_split\": np.arange(2, 20, 2),\n",
    "           \"min_samples_leaf\": np.arange(1, 20, 2)}"
   ]
  },
  {
   "cell_type": "code",
   "execution_count": 29,
   "id": "d16cb463",
   "metadata": {},
   "outputs": [
    {
     "name": "stdout",
     "output_type": "stream",
     "text": [
      "Fitting 5 folds for each of 100 candidates, totalling 500 fits\n"
     ]
    }
   ],
   "source": [
    "np.random.seed(42)\n",
    "\n",
    "# Setup random hyperparameter search for RandomForestClassifier\n",
    "rscv_clf = RandomizedSearchCV(RandomForestClassifier(),\n",
    "                           param_distributions=rscv_grid,\n",
    "                           cv=5,\n",
    "                           n_iter=100,\n",
    "                           verbose=True)\n",
    "\n",
    "# Fit random hyperparameter search model\n",
    "rscv_clf.fit(x_train, y_train);"
   ]
  },
  {
   "cell_type": "markdown",
   "id": "5466d457",
   "metadata": {},
   "source": [
    "# Great!"
   ]
  },
  {
   "cell_type": "markdown",
   "id": "f4eac017",
   "metadata": {},
   "source": [
    "We have trained our model with best parameteres found by `RandomizedSearchCV`.\n",
    "\n",
    "Let's check the best parameters."
   ]
  },
  {
   "cell_type": "code",
   "execution_count": 30,
   "id": "c85e1238",
   "metadata": {},
   "outputs": [
    {
     "data": {
      "text/plain": [
       "{'n_estimators': 790,\n",
       " 'min_samples_split': 8,\n",
       " 'min_samples_leaf': 1,\n",
       " 'max_depth': None}"
      ]
     },
     "execution_count": 30,
     "metadata": {},
     "output_type": "execute_result"
    }
   ],
   "source": [
    "rscv_clf.best_params_"
   ]
  },
  {
   "cell_type": "markdown",
   "id": "791a7322",
   "metadata": {},
   "source": [
    "# It's time to check the score"
   ]
  },
  {
   "cell_type": "code",
   "execution_count": 31,
   "id": "0dad20d9",
   "metadata": {},
   "outputs": [
    {
     "data": {
      "text/plain": [
       "0.9710982658959537"
      ]
     },
     "execution_count": 31,
     "metadata": {},
     "output_type": "execute_result"
    }
   ],
   "source": [
    "rscv_clf.score(x_test, y_test)"
   ]
  },
  {
   "cell_type": "markdown",
   "id": "70462c0f",
   "metadata": {},
   "source": [
    "# Boom!"
   ]
  },
  {
   "cell_type": "markdown",
   "id": "147cb742",
   "metadata": {},
   "source": [
    "We got **97.12%** `Accuracy`"
   ]
  },
  {
   "cell_type": "markdown",
   "id": "ca3d73bd",
   "metadata": {},
   "source": [
    "Now let's see how our model is doing by testing it on `test set`."
   ]
  },
  {
   "cell_type": "code",
   "execution_count": 32,
   "id": "57edbd9e",
   "metadata": {},
   "outputs": [],
   "source": [
    "y_preds = rscv_clf.predict(x_test)"
   ]
  },
  {
   "cell_type": "markdown",
   "id": "183722cf",
   "metadata": {},
   "source": [
    "Let's see the `result`"
   ]
  },
  {
   "cell_type": "code",
   "execution_count": 33,
   "id": "d82dcaaa",
   "metadata": {},
   "outputs": [
    {
     "data": {
      "text/html": [
       "<div>\n",
       "<style scoped>\n",
       "    .dataframe tbody tr th:only-of-type {\n",
       "        vertical-align: middle;\n",
       "    }\n",
       "\n",
       "    .dataframe tbody tr th {\n",
       "        vertical-align: top;\n",
       "    }\n",
       "\n",
       "    .dataframe thead th {\n",
       "        text-align: right;\n",
       "    }\n",
       "</style>\n",
       "<table border=\"1\" class=\"dataframe\">\n",
       "  <thead>\n",
       "    <tr style=\"text-align: right;\">\n",
       "      <th>Predicted Label</th>\n",
       "      <th>0</th>\n",
       "      <th>1</th>\n",
       "    </tr>\n",
       "    <tr>\n",
       "      <th>Actual Label</th>\n",
       "      <th></th>\n",
       "      <th></th>\n",
       "    </tr>\n",
       "  </thead>\n",
       "  <tbody>\n",
       "    <tr>\n",
       "      <th>0</th>\n",
       "      <td>160</td>\n",
       "      <td>8</td>\n",
       "    </tr>\n",
       "    <tr>\n",
       "      <th>1</th>\n",
       "      <td>2</td>\n",
       "      <td>176</td>\n",
       "    </tr>\n",
       "  </tbody>\n",
       "</table>\n",
       "</div>"
      ],
      "text/plain": [
       "Predicted Label    0    1\n",
       "Actual Label             \n",
       "0                160    8\n",
       "1                  2  176"
      ]
     },
     "execution_count": 33,
     "metadata": {},
     "output_type": "execute_result"
    }
   ],
   "source": [
    "pd.crosstab(y_test, y_preds, rownames=[\"Actual Label\"], colnames=[\"Predicted Label\"])"
   ]
  },
  {
   "cell_type": "markdown",
   "id": "6952031f",
   "metadata": {},
   "source": [
    "# WOW!!"
   ]
  },
  {
   "cell_type": "markdown",
   "id": "194db48f",
   "metadata": {},
   "source": [
    "How good is that!"
   ]
  },
  {
   "cell_type": "markdown",
   "id": "e6c7e6d1",
   "metadata": {},
   "source": [
    "Now, Let's see the `classification_report`"
   ]
  },
  {
   "cell_type": "code",
   "execution_count": 34,
   "id": "6afedec5",
   "metadata": {},
   "outputs": [],
   "source": [
    "#Importing classification_report\n",
    "from sklearn.metrics import classification_report"
   ]
  },
  {
   "cell_type": "code",
   "execution_count": 35,
   "id": "7b0fbeb4",
   "metadata": {},
   "outputs": [
    {
     "name": "stdout",
     "output_type": "stream",
     "text": [
      "              precision    recall  f1-score   support\n",
      "\n",
      "           0       0.99      0.95      0.97       168\n",
      "           1       0.96      0.99      0.97       178\n",
      "\n",
      "    accuracy                           0.97       346\n",
      "   macro avg       0.97      0.97      0.97       346\n",
      "weighted avg       0.97      0.97      0.97       346\n",
      "\n"
     ]
    }
   ],
   "source": [
    "print(classification_report(y_test, y_preds))"
   ]
  },
  {
   "cell_type": "markdown",
   "id": "6456fed3",
   "metadata": {},
   "source": [
    "We got some real good number here..."
   ]
  },
  {
   "cell_type": "markdown",
   "id": "6fe7d84c",
   "metadata": {},
   "source": [
    "Now let's plot `ROC` curve"
   ]
  },
  {
   "cell_type": "code",
   "execution_count": 36,
   "id": "31b7dc7a",
   "metadata": {},
   "outputs": [
    {
     "data": {
      "image/png": "[encoded data removed]",
      "text/plain": [
       "<Figure size 432x288 with 1 Axes>"
      ]
     },
     "metadata": {
      "needs_background": "light"
     },
     "output_type": "display_data"
    }
   ],
   "source": [
    "from sklearn.metrics import plot_roc_curve\n",
    "plot_roc_curve(rscv_clf, x_test, y_test);\n",
    "plt.xlabel('False Positive Rate')\n",
    "plt.ylabel('True Positive Rate')\n",
    "plt.title('Receiver Operating Characteristic Curve');"
   ]
  },
  {
   "cell_type": "markdown",
   "id": "4eecfac6",
   "metadata": {},
   "source": [
    "Now it's time to check weather our model is `overfitted` or not!"
   ]
  },
  {
   "cell_type": "markdown",
   "id": "9591caf3",
   "metadata": {},
   "source": [
    "We need to evaluate our model on new data and need to check how it's doing!"
   ]
  },
  {
   "cell_type": "markdown",
   "id": "5947fa72",
   "metadata": {},
   "source": [
    "Let's check it on the data of some teams who already lost and no chance of winning the title."
   ]
  },
  {
   "cell_type": "markdown",
   "id": "dc34a0c4",
   "metadata": {},
   "source": [
    "Now check for `Real Madrid` who lost in the **Semi-Final**"
   ]
  },
  {
   "cell_type": "code",
   "execution_count": 40,
   "id": "bed7eb51",
   "metadata": {},
   "outputs": [
    {
     "name": "stdout",
     "output_type": "stream",
     "text": [
      "[[0.43442584 0.56557416]]\n"
     ]
    }
   ],
   "source": [
    "print(rscv_clf.predict_proba(np.array([[12, 6, 3, 3, 19, 14, +5, 10]])))"
   ]
  },
  {
   "cell_type": "markdown",
   "id": "20a05029",
   "metadata": {},
   "source": [
    "`Real Madrid` has **57%** of `winning` and **43%** of `lossing` the championship.\n",
    "\n",
    "They played in **Semi-Final**. So the prediction is **reasonable**."
   ]
  },
  {
   "cell_type": "markdown",
   "id": "7e12fa03",
   "metadata": {},
   "source": [
    "Let's check for `Bercelona`."
   ]
  },
  {
   "cell_type": "code",
   "execution_count": 43,
   "id": "2d75161c",
   "metadata": {},
   "outputs": [
    {
     "name": "stdout",
     "output_type": "stream",
     "text": [
      "[[0.97353315 0.02646685]]\n"
     ]
    }
   ],
   "source": [
    "print(rscv_clf.predict_proba(np.array([[8, 5, 1, 2, 18, 10, +8, 15]])))"
   ]
  },
  {
   "cell_type": "markdown",
   "id": "7ee00ba0",
   "metadata": {},
   "source": [
    "`Bercelona` has **2.6%** chance of `winning` and **97.4%** of `lossing`. \n",
    "\n",
    "They lost in `Round of 16`. So the **prediction is correct**."
   ]
  },
  {
   "cell_type": "markdown",
   "id": "ca0b9c03",
   "metadata": {},
   "source": [
    "Let's check for `MnU` who lost in the `Group Stage`."
   ]
  },
  {
   "cell_type": "code",
   "execution_count": 44,
   "id": "d8a77267",
   "metadata": {},
   "outputs": [
    {
     "name": "stdout",
     "output_type": "stream",
     "text": [
      "[[0.98448312 0.01551688]]\n"
     ]
    }
   ],
   "source": [
    "print(rscv_clf.predict_proba(np.array([[6, 3,  0, 3, 15, 10, +5, 9]])))"
   ]
  },
  {
   "cell_type": "markdown",
   "id": "e01c1512",
   "metadata": {},
   "source": [
    "`MnU` has **1.5%** chance of `winning` and **98.5%** of `lossing`. \n"
   ]
  },
  {
   "cell_type": "markdown",
   "id": "8c2925e7",
   "metadata": {},
   "source": [
    "# Our Model is predicting Incredible."
   ]
  },
  {
   "cell_type": "markdown",
   "id": "4ba30d95",
   "metadata": {},
   "source": [
    "There is no chance of `overfitting`."
   ]
  },
  {
   "cell_type": "markdown",
   "id": "844e9654",
   "metadata": {},
   "source": [
    "# Now let's see the states of `ManCity` and `Chelsea`"
   ]
  },
  {
   "cell_type": "markdown",
   "id": "3368da91",
   "metadata": {},
   "source": [
    "# `ManCity` Stats this seasone."
   ]
  },
  {
   "cell_type": "markdown",
   "id": "316088f7",
   "metadata": {},
   "source": [
    "`match_played` --> 12\n",
    "\n",
    "`wins` --> 11\n",
    "\n",
    "`draws` --> 1\n",
    "\n",
    "`losts` --> 0\n",
    "\n",
    "`goals_scored` --> 25\n",
    "\n",
    "`goals_conceded` --> 4\n",
    "\n",
    "`goals_difference` -->21\n",
    "\n",
    "`group_points` --> 16"
   ]
  },
  {
   "cell_type": "markdown",
   "id": "aae5fde4",
   "metadata": {},
   "source": [
    "#  `Chelsea` Stats this seasone."
   ]
  },
  {
   "cell_type": "markdown",
   "id": "a0dc8244",
   "metadata": {},
   "source": [
    "`match_played` --> 12\n",
    "\n",
    "`wins` --> 8\n",
    "\n",
    "`draws` --> 3\n",
    "\n",
    "`losts` --> 1\n",
    "\n",
    "`goals_scored` --> 22\n",
    "\n",
    "`goals_conceded` --> 4\n",
    "\n",
    "`goals_difference` -->18\n",
    "\n",
    "`group_points` --> 14"
   ]
  },
  {
   "cell_type": "code",
   "execution_count": 45,
   "id": "511a25bb",
   "metadata": {},
   "outputs": [],
   "source": [
    "man_city_prediction = rscv_clf.predict_proba(np.array([[12, 11,  1, 0, 25, 4, +21, 16]]))"
   ]
  },
  {
   "cell_type": "code",
   "execution_count": 48,
   "id": "15645af6",
   "metadata": {},
   "outputs": [
    {
     "name": "stdout",
     "output_type": "stream",
     "text": [
      "ManCity has 91.00% chance of Winning and 9.00% chance of Lossing.\n"
     ]
    }
   ],
   "source": [
    "print(\"ManCity has {0:.2f}% chance of Winning and {1:.2f}% chance of Lossing.\".format(100*man_city_prediction[0, 1], 100*man_city_prediction[0, 0]))"
   ]
  },
  {
   "cell_type": "code",
   "execution_count": 49,
   "id": "aec84113",
   "metadata": {},
   "outputs": [],
   "source": [
    "chelsea_prediction = rscv_clf.predict_proba(np.array([[12, 8,  3, 1, 22, 4, +18, 14]]))"
   ]
  },
  {
   "cell_type": "code",
   "execution_count": 50,
   "id": "aec59d89",
   "metadata": {},
   "outputs": [
    {
     "name": "stdout",
     "output_type": "stream",
     "text": [
      "Chelsea has 80.77% chance of Winning and 19.23% chance of Lossing.\n"
     ]
    }
   ],
   "source": [
    "print(\"Chelsea has {0:.2f}% chance of Winning and {1:.2f}% chance of Lossing.\".format(100*chelsea_prediction[0, 1], 100*chelsea_prediction[0, 0]))"
   ]
  },
  {
   "cell_type": "markdown",
   "id": "2d70335c",
   "metadata": {},
   "source": [
    "# `ManCity` has `10.23%` more chance of winning the `UCL` this season(2020-2021)"
   ]
  }
 ],
 "metadata": {
  "kernelspec": {
   "display_name": "Python 3",
   "language": "python",
   "name": "python3"
  },
  "language_info": {
   "codemirror_mode": {
    "name": "ipython",
    "version": 3
   },
   "file_extension": ".py",
   "mimetype": "text/x-python",
   "name": "python",
   "nbconvert_exporter": "python",
   "pygments_lexer": "ipython3",
   "version": "3.7.6"
  }
 },
 "nbformat": 4,
 "nbformat_minor": 5
}
